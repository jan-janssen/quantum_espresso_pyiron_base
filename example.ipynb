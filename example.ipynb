{
 "cells": [
  {
   "cell_type": "code",
   "execution_count": 1,
   "metadata": {
    "ExecuteTime": {
     "end_time": "2024-01-19T22:49:01.782036371Z",
     "start_time": "2024-01-19T22:48:55.903556288Z"
    },
    "collapsed": false,
    "jupyter": {
     "outputs_hidden": false
    }
   },
   "outputs": [],
   "source": [
    "import subprocess\n",
    "from dataclasses import dataclass, field\n",
    "from pathlib import Path\n",
    "\n",
    "import matplotlib.pyplot as plt\n",
    "import numpy as np\n",
    "from adis_tools.parsers import parse_pw\n",
    "from ase.build import bulk\n",
    "from ase.io import write\n",
    "from jobflow import job, Response, Flow, run_locally, Maker\n",
    "from pymatgen.core import Structure\n",
    "from pymatgen.io.ase import AseAtomsAdaptor"
   ]
  },
  {
   "cell_type": "code",
   "execution_count": 2,
   "metadata": {
    "ExecuteTime": {
     "end_time": "2024-01-19T22:49:01.785090234Z",
     "start_time": "2024-01-19T22:49:01.782580256Z"
    },
    "collapsed": false,
    "jupyter": {
     "outputs_hidden": false
    }
   },
   "outputs": [],
   "source": [
    "pseudopotentials = {\"Al\": \"Al.pbe-n-kjpaw_psl.1.0.0.UPF\"}\n",
    "# pseudo_dir = str(Path.cwd() / 'pseudo')"
   ]
  },
  {
   "cell_type": "code",
   "execution_count": 3,
   "metadata": {
    "ExecuteTime": {
     "end_time": "2024-01-19T22:49:01.793593996Z",
     "start_time": "2024-01-19T22:49:01.787909824Z"
    },
    "collapsed": false,
    "jupyter": {
     "outputs_hidden": false
    }
   },
   "outputs": [],
   "source": [
    "parameters_relax = {\n",
    "    'CONTROL': {\n",
    "        'calculation': 'vc-relax',\n",
    "        # 'pseudo_dir': pseudo_dir,\n",
    "    },\n",
    "    'SYSTEM': {\n",
    "        'occupations': 'smearing',\n",
    "        'degauss': 0.02,\n",
    "    }\n",
    "}"
   ]
  },
  {
   "cell_type": "code",
   "execution_count": 4,
   "metadata": {
    "ExecuteTime": {
     "end_time": "2024-01-19T22:49:01.810150126Z",
     "start_time": "2024-01-19T22:49:01.795706014Z"
    },
    "collapsed": false,
    "jupyter": {
     "outputs_hidden": false
    }
   },
   "outputs": [],
   "source": [
    "parameters_static = {\n",
    "    'CONTROL': {\n",
    "        'calculation': 'scf',\n",
    "        # 'pseudo_dir': pseudo_dir,\n",
    "    },\n",
    "    'SYSTEM': {\n",
    "        'occupations': 'smearing',\n",
    "        'degauss': 0.02,\n",
    "    }\n",
    "}"
   ]
  },
  {
   "cell_type": "code",
   "execution_count": 5,
   "metadata": {
    "ExecuteTime": {
     "end_time": "2024-01-19T22:49:02.669548165Z",
     "start_time": "2024-01-19T22:49:02.599035228Z"
    },
    "collapsed": false,
    "jupyter": {
     "outputs_hidden": false
    }
   },
   "outputs": [],
   "source": [
    "@dataclass\n",
    "class QERelaxMaker(Maker):\n",
    "    name: str = \"QE Relax Maker\"\n",
    "\n",
    "    pseudopotentials: dict = field(default_factory=lambda: pseudopotentials)\n",
    "    parameters: dict = field(default_factory=lambda: parameters_relax)\n",
    "\n",
    "    # can have an output schema\n",
    "    @job\n",
    "    def make(self, structure: Structure):\n",
    "        # typically we start by copying outputs from previous uns\n",
    "\n",
    "        # write inputs\n",
    "        write(\n",
    "            'relax.pwi',\n",
    "            AseAtomsAdaptor.get_atoms(structure),\n",
    "            kpts=(3, 3, 3),\n",
    "            input_data=self.parameters,\n",
    "            pseudopotentials=self.pseudopotentials,\n",
    "        )\n",
    "        subprocess.check_output(\"OMP_NUM_THREADS=1 mpirun -np 1 pw.x -in relax.pwi > relax.pwo\", shell=True,\n",
    "                                universal_newlines=True)\n",
    "        relaxed_structure = parse_pw('pwscf.xml')['ase_structure']\n",
    "\n",
    "        return {\"structure\": AseAtomsAdaptor.get_structure(relaxed_structure)}"
   ]
  },
  {
   "cell_type": "code",
   "execution_count": 6,
   "metadata": {
    "ExecuteTime": {
     "end_time": "2024-01-19T22:49:04.176084944Z",
     "start_time": "2024-01-19T22:49:04.136222540Z"
    },
    "collapsed": false,
    "jupyter": {
     "outputs_hidden": false
    }
   },
   "outputs": [],
   "source": [
    "@dataclass\n",
    "class QEStaticMaker(Maker):\n",
    "    name: str = \"QE Static Maker\"\n",
    "\n",
    "    # this is not really needed for usage but makes it more convenient\n",
    "    pseudopotentials: dict = field(default_factory=lambda: pseudopotentials)\n",
    "    parameters: dict = field(default_factory=lambda: parameters_static)\n",
    "\n",
    "    # can have an output schema\n",
    "    @job\n",
    "    def make(self, structure: Structure):\n",
    "        # typically we start by copying outputs from previous uns\n",
    "\n",
    "        # write inputs\n",
    "        write(\n",
    "            'strain.pwi',\n",
    "            AseAtomsAdaptor.get_atoms(structure),\n",
    "            kpts=(3, 3, 3),\n",
    "            input_data=self.parameters,\n",
    "            pseudopotentials=self.pseudopotentials,\n",
    "        )\n",
    "        subprocess.check_output(\"OMP_NUM_THREADS=1 mpirun -np 1 pw.x -in strain.pwi > strain.pwo\", shell=True,\n",
    "                                universal_newlines=True)\n",
    "        results = parse_pw('pwscf.xml')\n",
    "        return {\"energy\": results['energy'], \"volume\": results['ase_structure'].get_volume()}\n"
   ]
  },
  {
   "cell_type": "code",
   "execution_count": 7,
   "metadata": {
    "ExecuteTime": {
     "end_time": "2024-01-19T22:49:05.697083020Z",
     "start_time": "2024-01-19T22:49:05.682147382Z"
    },
    "collapsed": false,
    "jupyter": {
     "outputs_hidden": false
    }
   },
   "outputs": [],
   "source": [
    "@job\n",
    "def get_ev_curve(relaxed_structure, strain_min=0.9, strain_max=1.1, num_volumes=5):\n",
    "    # structure to atoms\n",
    "    relaxed_structure = AseAtomsAdaptor().get_atoms(relaxed_structure)\n",
    "    jobs = []\n",
    "    volumes = []\n",
    "    energies = []\n",
    "    for strain in np.linspace(strain_min, strain_max, num_volumes):\n",
    "        structure_strain = relaxed_structure.copy()\n",
    "        structure_strain.set_cell(structure_strain.cell * strain ** (1 / 3), scale_atoms=True)\n",
    "\n",
    "        new_job = QEStaticMaker().make(AseAtomsAdaptor.get_structure(structure_strain))\n",
    "        jobs.append(new_job)\n",
    "        volumes.append(new_job.output[\"volume\"])\n",
    "        energies.append(new_job.output[\"energy\"])\n",
    "    return Response(replace=Flow(jobs, output={\"energies\": energies, \"volumes\": volumes}))\n"
   ]
  },
  {
   "cell_type": "code",
   "execution_count": 8,
   "metadata": {
    "ExecuteTime": {
     "end_time": "2024-01-19T22:49:06.934391273Z",
     "start_time": "2024-01-19T22:49:06.891332032Z"
    },
    "collapsed": false,
    "jupyter": {
     "outputs_hidden": false
    }
   },
   "outputs": [],
   "source": [
    "@job\n",
    "def get_plot(volume_lst, energy_lst):\n",
    "    plt.plot(volume_lst, energy_lst)\n",
    "    plt.xlabel(\"Volume\")\n",
    "    plt.ylabel(\"Energy\")"
   ]
  },
  {
   "cell_type": "code",
   "execution_count": 9,
   "metadata": {
    "ExecuteTime": {
     "end_time": "2024-01-19T22:51:52.014356368Z",
     "start_time": "2024-01-19T22:49:08.190213201Z"
    },
    "collapsed": false,
    "jupyter": {
     "outputs_hidden": false
    }
   },
   "outputs": [
    {
     "name": "stdout",
     "output_type": "stream",
     "text": [
      "2024-01-29 09:42:23,086 INFO Started executing jobs locally\n",
      "2024-01-29 09:42:23,882 INFO Starting job - QE Relax Maker (3f76e4d6-4a67-4f0d-b9e0-4948fd9c4b9a)\n"
     ]
    },
    {
     "name": "stderr",
     "output_type": "stream",
     "text": [
      "Note: The following floating-point exceptions are signalling: IEEE_INVALID_FLAG\n"
     ]
    },
    {
     "name": "stdout",
     "output_type": "stream",
     "text": [
      "2024-01-29 09:42:44,075 INFO Finished job - QE Relax Maker (3f76e4d6-4a67-4f0d-b9e0-4948fd9c4b9a)\n",
      "2024-01-29 09:42:44,077 INFO Starting job - get_ev_curve (6e53287f-ff1a-451f-9b49-f1e2a46e9346)\n",
      "2024-01-29 09:42:44,082 INFO Finished job - get_ev_curve (6e53287f-ff1a-451f-9b49-f1e2a46e9346)\n",
      "2024-01-29 09:42:44,104 INFO Starting job - QE Static Maker (0304e9c8-f4dc-4373-b87b-fbbab5d9124f)\n",
      "2024-01-29 09:42:47,111 INFO Finished job - QE Static Maker (0304e9c8-f4dc-4373-b87b-fbbab5d9124f)\n",
      "2024-01-29 09:42:47,113 INFO Starting job - QE Static Maker (a763bf10-0e98-4466-91cb-25a7f18b259e)\n"
     ]
    },
    {
     "name": "stderr",
     "output_type": "stream",
     "text": [
      "Note: The following floating-point exceptions are signalling: IEEE_INVALID_FLAG\n"
     ]
    },
    {
     "name": "stdout",
     "output_type": "stream",
     "text": [
      "2024-01-29 09:42:50,162 INFO Finished job - QE Static Maker (a763bf10-0e98-4466-91cb-25a7f18b259e)\n",
      "2024-01-29 09:42:50,177 INFO Starting job - QE Static Maker (b053b14e-c54d-440d-9ccd-fb62d27cef20)\n"
     ]
    },
    {
     "name": "stderr",
     "output_type": "stream",
     "text": [
      "Note: The following floating-point exceptions are signalling: IEEE_INVALID_FLAG\n"
     ]
    },
    {
     "name": "stdout",
     "output_type": "stream",
     "text": [
      "2024-01-29 09:42:53,356 INFO Finished job - QE Static Maker (b053b14e-c54d-440d-9ccd-fb62d27cef20)\n",
      "2024-01-29 09:42:53,387 INFO Starting job - QE Static Maker (ee34c28a-bdc2-49f0-984f-6e7fdeaa3f0a)\n"
     ]
    },
    {
     "name": "stderr",
     "output_type": "stream",
     "text": [
      "Note: The following floating-point exceptions are signalling: IEEE_INVALID_FLAG\n"
     ]
    },
    {
     "name": "stdout",
     "output_type": "stream",
     "text": [
      "2024-01-29 09:42:56,879 INFO Finished job - QE Static Maker (ee34c28a-bdc2-49f0-984f-6e7fdeaa3f0a)\n",
      "2024-01-29 09:42:56,881 INFO Starting job - QE Static Maker (0413f524-f2a1-49f3-aeaf-189b90ad3a9f)\n"
     ]
    },
    {
     "name": "stderr",
     "output_type": "stream",
     "text": [
      "Note: The following floating-point exceptions are signalling: IEEE_INVALID_FLAG\n"
     ]
    },
    {
     "name": "stdout",
     "output_type": "stream",
     "text": [
      "2024-01-29 09:43:00,461 INFO Finished job - QE Static Maker (0413f524-f2a1-49f3-aeaf-189b90ad3a9f)\n",
      "2024-01-29 09:43:00,463 INFO Starting job - store_inputs (6e53287f-ff1a-451f-9b49-f1e2a46e9346, 2)\n",
      "2024-01-29 09:43:00,464 INFO Finished job - store_inputs (6e53287f-ff1a-451f-9b49-f1e2a46e9346, 2)\n",
      "2024-01-29 09:43:00,466 INFO Starting job - get_plot (8eaa363e-9846-4ae3-9383-0afe2fa8456c)\n"
     ]
    },
    {
     "name": "stderr",
     "output_type": "stream",
     "text": [
      "Note: The following floating-point exceptions are signalling: IEEE_INVALID_FLAG\n"
     ]
    },
    {
     "name": "stdout",
     "output_type": "stream",
     "text": [
      "2024-01-29 09:43:00,500 INFO Finished job - get_plot (8eaa363e-9846-4ae3-9383-0afe2fa8456c)\n",
      "2024-01-29 09:43:00,500 INFO Finished executing jobs locally\n"
     ]
    },
    {
     "data": {
      "text/plain": [
       "{'3f76e4d6-4a67-4f0d-b9e0-4948fd9c4b9a': {1: Response(output={'structure': Structure Summary\n",
       "  Lattice\n",
       "      abc : 4.045218941850908 4.045218941850908 4.045218941850907\n",
       "   angles : 90.0 90.0 90.0\n",
       "   volume : 66.19513870282248\n",
       "        A : 4.045218941850908 0.0 0.0\n",
       "        B : 0.0 4.045218941850908 0.0\n",
       "        C : 0.0 0.0 4.045218941850907\n",
       "      pbc : True True True\n",
       "  PeriodicSite: Al (0.0, 0.0, 0.0) [0.0, 0.0, 0.0]\n",
       "  PeriodicSite: Al (0.0, 2.023, 2.023) [0.0, 0.5, 0.5]\n",
       "  PeriodicSite: Al (2.023, 0.0, 2.023) [0.5, 0.0, 0.5]\n",
       "  PeriodicSite: Al (2.023, 2.023, 0.0) [0.5, 0.5, 0.0]}, detour=None, addition=None, replace=None, stored_data=None, stop_children=False, stop_jobflow=False)},\n",
       " '6e53287f-ff1a-451f-9b49-f1e2a46e9346': {1: Response(output=None, detour=None, addition=None, replace=Flow(name='Flow', uuid='c00fd299-ebdb-4e57-8af8-5b3060b341fb')\n",
       "  1. Job(name='QE Static Maker', uuid='0304e9c8-f4dc-4373-b87b-fbbab5d9124f')\n",
       "  2. Job(name='QE Static Maker', uuid='a763bf10-0e98-4466-91cb-25a7f18b259e')\n",
       "  3. Job(name='QE Static Maker', uuid='b053b14e-c54d-440d-9ccd-fb62d27cef20')\n",
       "  4. Job(name='QE Static Maker', uuid='ee34c28a-bdc2-49f0-984f-6e7fdeaa3f0a')\n",
       "  5. Job(name='QE Static Maker', uuid='0413f524-f2a1-49f3-aeaf-189b90ad3a9f')\n",
       "  6. Job(name='store_inputs', uuid='6e53287f-ff1a-451f-9b49-f1e2a46e9346'), stored_data=None, stop_children=False, stop_jobflow=False),\n",
       "  2: Response(output={'energies': [OutputReference(0304e9c8-f4dc-4373-b87b-fbbab5d9124f, ['energy']), OutputReference(a763bf10-0e98-4466-91cb-25a7f18b259e, ['energy']), OutputReference(b053b14e-c54d-440d-9ccd-fb62d27cef20, ['energy']), OutputReference(ee34c28a-bdc2-49f0-984f-6e7fdeaa3f0a, ['energy']), OutputReference(0413f524-f2a1-49f3-aeaf-189b90ad3a9f, ['energy'])], 'volumes': [OutputReference(0304e9c8-f4dc-4373-b87b-fbbab5d9124f, ['volume']), OutputReference(a763bf10-0e98-4466-91cb-25a7f18b259e, ['volume']), OutputReference(b053b14e-c54d-440d-9ccd-fb62d27cef20, ['volume']), OutputReference(ee34c28a-bdc2-49f0-984f-6e7fdeaa3f0a, ['volume']), OutputReference(0413f524-f2a1-49f3-aeaf-189b90ad3a9f, ['volume'])]}, detour=None, addition=None, replace=None, stored_data=None, stop_children=False, stop_jobflow=False)},\n",
       " '0304e9c8-f4dc-4373-b87b-fbbab5d9124f': {1: Response(output={'energy': -1074.8451830761296, 'volume': 59.57562405133642}, detour=None, addition=None, replace=None, stored_data=None, stop_children=False, stop_jobflow=False)},\n",
       " 'a763bf10-0e98-4466-91cb-25a7f18b259e': {1: Response(output={'energy': -1074.9158947386832, 'volume': 62.88538094307739}, detour=None, addition=None, replace=None, stored_data=None, stop_children=False, stop_jobflow=False)},\n",
       " 'b053b14e-c54d-440d-9ccd-fb62d27cef20': {1: Response(output={'energy': -1074.9365252088865, 'volume': 66.19513783481834}, detour=None, addition=None, replace=None, stored_data=None, stop_children=False, stop_jobflow=False)},\n",
       " 'ee34c28a-bdc2-49f0-984f-6e7fdeaa3f0a': {1: Response(output={'energy': -1074.9194989202454, 'volume': 69.50489472655926}, detour=None, addition=None, replace=None, stored_data=None, stop_children=False, stop_jobflow=False)},\n",
       " '0413f524-f2a1-49f3-aeaf-189b90ad3a9f': {1: Response(output={'energy': -1074.874179782264, 'volume': 72.81465161830016}, detour=None, addition=None, replace=None, stored_data=None, stop_children=False, stop_jobflow=False)},\n",
       " '8eaa363e-9846-4ae3-9383-0afe2fa8456c': {1: Response(output=None, detour=None, addition=None, replace=None, stored_data=None, stop_children=False, stop_jobflow=False)}}"
      ]
     },
     "execution_count": 9,
     "metadata": {},
     "output_type": "execute_result"
    },
    {
     "data": {
      "image/png": "[encoded data removed]",
      "text/plain": [
       "<Figure size 640x480 with 1 Axes>"
      ]
     },
     "metadata": {},
     "output_type": "display_data"
    }
   ],
   "source": [
    "structure = bulk('Al', a=4.15, cubic=True)\n",
    "relax = QERelaxMaker().make(AseAtomsAdaptor.get_structure(structure))\n",
    "ev_curve = get_ev_curve(relax.output[\"structure\"])\n",
    "plot = get_plot(volume_lst=ev_curve.output[\"volumes\"], energy_lst=ev_curve.output[\"energies\"])\n",
    "jobs = [relax, ev_curve, plot]\n",
    "run_locally(Flow(jobs), create_folders=True)"
   ]
  },
  {
   "cell_type": "code",
   "execution_count": null,
   "metadata": {
    "collapsed": false,
    "jupyter": {
     "outputs_hidden": false
    }
   },
   "outputs": [],
   "source": []
  }
 ],
 "metadata": {
  "kernelspec": {
   "display_name": "Python 3 (ipykernel)",
   "language": "python",
   "name": "python3"
  },
  "language_info": {
   "codemirror_mode": {
    "name": "ipython",
    "version": 3
   },
   "file_extension": ".py",
   "mimetype": "text/x-python",
   "name": "python",
   "nbconvert_exporter": "python",
   "pygments_lexer": "ipython3",
   "version": "3.11.7"
  }
 },
 "nbformat": 4,
 "nbformat_minor": 4
}
