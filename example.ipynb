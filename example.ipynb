{
 "cells": [
  {
   "cell_type": "markdown",
   "metadata": {},
   "source": [
    "# Equation of State curve - basic QE\n",
    "\n",
    "Running an EOS without all the fancy features in the `aiida-quantumespresso` plugin."
   ]
  },
  {
   "cell_type": "code",
   "execution_count": 1,
   "metadata": {},
   "outputs": [
    {
     "data": {
      "text/plain": [
       "Profile<uuid='636ce0ecaed848c18631033f4daed624' name='test'>"
      ]
     },
     "execution_count": 1,
     "metadata": {},
     "output_type": "execute_result"
    }
   ],
   "source": [
    "from pathlib import Path\n",
    "\n",
    "from aiida import orm, engine, load_profile\n",
    "\n",
    "load_profile()"
   ]
  },
  {
   "cell_type": "markdown",
   "metadata": {},
   "source": [
    "## Importing a structure"
   ]
  },
  {
   "cell_type": "code",
   "execution_count": 2,
   "metadata": {},
   "outputs": [],
   "source": [
    "from ase import io as ase_io\n",
    "\n",
    "structure = orm.StructureData(ase=ase_io.read('files/Al.cif'))"
   ]
  },
  {
   "cell_type": "markdown",
   "metadata": {},
   "source": [
    "## Relaxing the geometry"
   ]
  },
  {
   "cell_type": "code",
   "execution_count": 3,
   "metadata": {},
   "outputs": [],
   "source": [
    "resources = {\n",
    "    'num_machines': 1,\n",
    "    'num_mpiprocs_per_machine': 1\n",
    "}\n",
    "\n",
    "relax_params = {\n",
    "    'CONTROL': {\n",
    "        'calculation': 'vc-relax',\n",
    "        'pseudo_dir': Path('files').absolute().as_posix(),\n",
    "    },\n",
    "    'SYSTEM': {\n",
    "        'occupations': 'smearing',\n",
    "        'smearing': 'cold',\n",
    "        'degauss': 0.02\n",
    "    }\n",
    "}"
   ]
  },
  {
   "cell_type": "code",
   "execution_count": 4,
   "metadata": {},
   "outputs": [],
   "source": [
    "from aiida_qe_basic.pw import PwCalculation\n",
    "\n",
    "builder = PwCalculation.get_builder()\n",
    "\n",
    "builder.code = orm.load_code('pw@localhost')\n",
    "builder.structure = orm.StructureData(ase=ase_io.read('files/Al.cif'))\n",
    "builder.pseudopotentials = orm.Dict({\"Al\": \"Al.pbe-n-kjpaw_psl.1.0.0.UPF\"})\n",
    "builder.parameters = orm.Dict(relax_params)\n",
    "builder.metadata.options.resources = resources"
   ]
  },
  {
   "cell_type": "code",
   "execution_count": 5,
   "metadata": {},
   "outputs": [
    {
     "data": {
      "text/plain": [
       "<StructureData: uuid: c56d7c1f-6d24-49eb-a8d6-e188d4c3a73f (pk: 24)>"
      ]
     },
     "execution_count": 5,
     "metadata": {},
     "output_type": "execute_result"
    }
   ],
   "source": [
    "results = engine.run(builder)\n",
    "relaxed_structure = results['structure']\n",
    "relaxed_structure"
   ]
  },
  {
   "cell_type": "markdown",
   "metadata": {},
   "source": [
    "## Calc function to rescale structures\n",
    "\n",
    "The `calcfunction` below takes an input structure and rescales it to different volumes."
   ]
  },
  {
   "cell_type": "code",
   "execution_count": 6,
   "metadata": {},
   "outputs": [],
   "source": [
    "from aiida_qe_basic.pw import PwCalculation\n",
    "\n",
    "@engine.calcfunction\n",
    "def rescale_list(structure: orm.StructureData, factor_list: orm.List):\n",
    "\n",
    "    scaled_structure_dict = {}\n",
    "\n",
    "    for index, scaling_factor in enumerate(factor_list.get_list()):\n",
    "\n",
    "        ase_structure = structure.get_ase()\n",
    "\n",
    "        new_cell = ase_structure.get_cell() * scaling_factor\n",
    "        ase_structure.set_cell(new_cell, scale_atoms=True)\n",
    "\n",
    "        scaled_structure_dict[f'structure_{index}'] = orm.StructureData(ase=ase_structure)\n",
    "\n",
    "    return scaled_structure_dict"
   ]
  },
  {
   "cell_type": "markdown",
   "metadata": {},
   "source": [
    "Typically, you'd just run it by calling the function as you would a regular Python function:"
   ]
  },
  {
   "cell_type": "code",
   "execution_count": 7,
   "metadata": {},
   "outputs": [],
   "source": [
    "rescaled_structures = rescale_list(relaxed_structure, orm.List(list=[0.9, 0.95, 1.0, 1.05, 1.1]))"
   ]
  },
  {
   "cell_type": "code",
   "execution_count": 8,
   "metadata": {},
   "outputs": [
    {
     "data": {
      "text/plain": [
       "{'structure_0': <StructureData: uuid: a0c7f87f-86a3-46cf-93c1-fb514f143599 (pk: 28)>,\n",
       " 'structure_1': <StructureData: uuid: 59f8e747-eff6-4eec-ba24-e823b8747b45 (pk: 29)>,\n",
       " 'structure_2': <StructureData: uuid: 8be3e1df-4d41-42bd-ba8c-6fed38ec7b77 (pk: 30)>,\n",
       " 'structure_3': <StructureData: uuid: e1b2c16b-a98b-485f-9aa6-52985737f02f (pk: 31)>,\n",
       " 'structure_4': <StructureData: uuid: e7652004-c65d-46c1-ab57-f4dc050649dd (pk: 32)>}"
      ]
     },
     "execution_count": 8,
     "metadata": {},
     "output_type": "execute_result"
    }
   ],
   "source": [
    "rescaled_structures"
   ]
  },
  {
   "cell_type": "markdown",
   "metadata": {},
   "source": [
    "## EOS: Work function version"
   ]
  },
  {
   "cell_type": "code",
   "execution_count": 9,
   "metadata": {},
   "outputs": [],
   "source": [
    "scf_inputs = {\n",
    "    'CONTROL': {\n",
    "        'calculation': 'scf',\n",
    "        'pseudo_dir': Path('files').absolute().as_posix(),\n",
    "    },\n",
    "    'SYSTEM': {\n",
    "        'occupations': 'smearing',\n",
    "        'smearing': 'cold',\n",
    "        'degauss': 0.02\n",
    "    }\n",
    "}"
   ]
  },
  {
   "cell_type": "code",
   "execution_count": 10,
   "metadata": {},
   "outputs": [],
   "source": [
    "@engine.workfunction\n",
    "def run_eos_wf(code: orm.Code, structure: orm.StructureData, scale_factors: orm.List):\n",
    "    \"\"\"Run an equation of state of a bulk crystal structure for the given element.\"\"\"\n",
    "\n",
    "    properties = {}\n",
    "\n",
    "    for label, rescaled_structure in rescale_list(structure, scale_factors).items():\n",
    "\n",
    "        builder = PwCalculation.get_builder()\n",
    "        builder.code = code\n",
    "        builder.structure = rescaled_structure\n",
    "        builder.parameters = orm.Dict(scf_inputs)\n",
    "        builder.pseudopotentials = orm.Dict({\"Al\": \"Al.pbe-n-kjpaw_psl.1.0.0.UPF\"})\n",
    "        builder.metadata.options.resources = resources\n",
    "\n",
    "        results = engine.run(builder)\n",
    "        properties[label] = results['properties']\n",
    "\n",
    "    return properties"
   ]
  },
  {
   "cell_type": "code",
   "execution_count": 11,
   "metadata": {},
   "outputs": [],
   "source": [
    "results = run_eos_wf(\n",
    "    code=orm.load_code('pw@localhost'),\n",
    "    structure=relaxed_structure,\n",
    "    scale_factors=[0.9, 0.95, 1.0, 1.05, 1.1]\n",
    ")"
   ]
  },
  {
   "cell_type": "code",
   "execution_count": 13,
   "metadata": {},
   "outputs": [
    {
     "data": {
      "text/plain": [
       "{'structure_0': <Dict: uuid: 9b7a124f-1800-44bd-a300-67476f4a1a99 (pk: 47)>,\n",
       " 'structure_1': <Dict: uuid: 535732b4-5d6e-492c-a75c-be06e7a9e054 (pk: 54)>,\n",
       " 'structure_2': <Dict: uuid: 883b00a3-f5cc-4520-a2b9-d5fa5e347d6d (pk: 61)>,\n",
       " 'structure_3': <Dict: uuid: e751d5c8-becd-4191-9c9c-b5f55c88573d (pk: 68)>,\n",
       " 'structure_4': <Dict: uuid: 8ccb6a17-685e-4b13-9b55-a80e6c56908f (pk: 75)>}"
      ]
     },
     "execution_count": 13,
     "metadata": {},
     "output_type": "execute_result"
    }
   ],
   "source": [
    "results"
   ]
  },
  {
   "cell_type": "code",
   "execution_count": 14,
   "metadata": {},
   "outputs": [],
   "source": [
    "volumes = []\n",
    "energies = []\n",
    "\n",
    "for result in results.values():\n",
    "    volumes.append(result['volume'])\n",
    "    energies.append(result['energy'])"
   ]
  },
  {
   "cell_type": "code",
   "execution_count": 15,
   "metadata": {},
   "outputs": [
    {
     "data": {
      "text/plain": [
       "[<matplotlib.lines.Line2D at 0x1f2511e10>]"
      ]
     },
     "execution_count": 15,
     "metadata": {},
     "output_type": "execute_result"
    },
    {
     "data": {
      "image/png": "[encoded data removed]",
      "text/plain": [
       "<Figure size 640x480 with 1 Axes>"
      ]
     },
     "metadata": {},
     "output_type": "display_data"
    }
   ],
   "source": [
    "import matplotlib.pyplot as plt\n",
    "\n",
    "plt.plot(volumes, energies)"
   ]
  },
  {
   "cell_type": "markdown",
   "metadata": {},
   "source": [
    "## Work chain version"
   ]
  },
  {
   "cell_type": "code",
   "execution_count": 16,
   "metadata": {},
   "outputs": [],
   "source": [
    "@engine.calcfunction\n",
    "def create_eos_dictionary(**kwargs) -> orm.Dict:\n",
    "    eos = {\n",
    "        label: (result['volume'], result['energy'])\n",
    "        for label, result in kwargs.items()\n",
    "    }\n",
    "    return orm.Dict(eos)"
   ]
  },
  {
   "cell_type": "code",
   "execution_count": 17,
   "metadata": {},
   "outputs": [
    {
     "data": {
      "text/plain": [
       "{'structure_0': [11.863200733459, -536.3535586307],\n",
       " 'structure_1': [13.952279463442, -536.79015879477],\n",
       " 'structure_2': [16.273252034923, -536.90415317779],\n",
       " 'structure_3': [18.838323386928, -536.82149044905],\n",
       " 'structure_4': [21.659698458483, -536.62164959218]}"
      ]
     },
     "execution_count": 17,
     "metadata": {},
     "output_type": "execute_result"
    }
   ],
   "source": [
    "create_eos_dictionary(**results).get_dict()"
   ]
  },
  {
   "cell_type": "code",
   "execution_count": 18,
   "metadata": {},
   "outputs": [],
   "source": [
    "class EquationOfState(engine.WorkChain):\n",
    "    \"\"\"WorkChain to compute Equation of State using Quantum ESPRESSO.\"\"\"\n",
    "\n",
    "    @classmethod\n",
    "    def define(cls, spec):\n",
    "        \"\"\"Specify inputs and outputs.\"\"\"\n",
    "        super().define(spec)\n",
    "        spec.input(\"code\", valid_type=orm.Code)\n",
    "        spec.input(\"structure\", valid_type=orm.StructureData)\n",
    "        spec.input(\"scale_factors\", valid_type=orm.List)\n",
    "\n",
    "        spec.outline(\n",
    "            cls.run_eos,\n",
    "            cls.results,\n",
    "        )\n",
    "        spec.output(\"eos_dict\", valid_type=orm.Dict)\n",
    "\n",
    "    def run_eos(self):\n",
    "\n",
    "        calcjob_dict = {}\n",
    "\n",
    "        for label, rescaled_structure in rescale_list(self.inputs.structure, self.inputs.scale_factors).items():\n",
    "\n",
    "            builder = PwCalculation.get_builder()\n",
    "            builder.code = self.inputs.code\n",
    "            builder.structure = rescaled_structure\n",
    "            builder.parameters = orm.Dict(scf_inputs)\n",
    "            builder.pseudopotentials = orm.Dict({\"Al\": \"Al.pbe-n-kjpaw_psl.1.0.0.UPF\"})\n",
    "            builder.metadata.options.resources = resources\n",
    "\n",
    "            calcjob_dict[label] = self.submit(builder)\n",
    "\n",
    "        self.ctx.labels = list(calcjob_dict.keys())\n",
    "\n",
    "        return calcjob_dict\n",
    "\n",
    "    def results(self):\n",
    "\n",
    "        self.report(self.ctx)\n",
    "\n",
    "        eos_results = {\n",
    "            label: self.ctx[label].outputs['properties'] for label in self.ctx.labels\n",
    "        }\n",
    "        eos_dict = create_eos_dictionary(**eos_results)\n",
    "        self.out('eos_dict', eos_dict)\n"
   ]
  },
  {
   "cell_type": "code",
   "execution_count": 19,
   "metadata": {},
   "outputs": [
    {
     "name": "stderr",
     "output_type": "stream",
     "text": [
      "01/11/2024 03:08:58 PM <26503> aiida.orm.nodes.process.workflow.workchain.WorkChainNode: [REPORT] [79|EquationOfState|results]: AttributeDict({'labels': ['structure_0', 'structure_1', 'structure_2', 'structure_3', 'structure_4'], 'structure_0': <CalcJobNode: uuid: 6cc9ccd7-17d2-4881-888b-583a48001421 (pk: 88) (aiida.calculations:qe.pw)>, 'structure_1': <CalcJobNode: uuid: b9c1080b-d970-4f96-9a9b-8993bda4f5d0 (pk: 91) (aiida.calculations:qe.pw)>, 'structure_2': <CalcJobNode: uuid: 41299398-d71a-446d-b0e0-be4ed33c9004 (pk: 94) (aiida.calculations:qe.pw)>, 'structure_3': <CalcJobNode: uuid: 300a8880-a95e-4800-bbc1-75bda43c33d9 (pk: 97) (aiida.calculations:qe.pw)>, 'structure_4': <CalcJobNode: uuid: a04f081a-6169-4a2f-abfb-60944f8f1a79 (pk: 100) (aiida.calculations:qe.pw)>})\n"
     ]
    },
    {
     "data": {
      "text/plain": [
       "{'eos_dict': <Dict: uuid: 63479e91-e2aa-417c-a205-fd2b7cb79b64 (pk: 122)>}"
      ]
     },
     "execution_count": 19,
     "metadata": {},
     "output_type": "execute_result"
    }
   ],
   "source": [
    "engine.run(EquationOfState, code=orm.load_code('pw@localhost'),\n",
    "           structure=relaxed_structure,\n",
    "           scale_factors=orm.List([0.9, 0.95, 1.0, 1.05, 1.1]))"
   ]
  },
  {
   "cell_type": "markdown",
   "metadata": {},
   "source": [
    "## Using the `builder`"
   ]
  },
  {
   "cell_type": "code",
   "execution_count": 20,
   "metadata": {},
   "outputs": [],
   "source": [
    "builder = EquationOfState.get_builder()"
   ]
  },
  {
   "cell_type": "code",
   "execution_count": 21,
   "metadata": {},
   "outputs": [],
   "source": [
    "builder.structure = relaxed_structure"
   ]
  },
  {
   "cell_type": "code",
   "execution_count": 22,
   "metadata": {},
   "outputs": [
    {
     "data": {
      "text/plain": [
       "Process class: EquationOfState\n",
       "Inputs:\n",
       "metadata: {}\n",
       "structure: Al\n"
      ]
     },
     "execution_count": 22,
     "metadata": {},
     "output_type": "execute_result"
    }
   ],
   "source": [
    "builder"
   ]
  },
  {
   "cell_type": "code",
   "execution_count": 23,
   "metadata": {},
   "outputs": [],
   "source": [
    "builder.scale_factors = orm.List([0.9, 0.95, 1.0, 1.05, 1.1])\n",
    "builder.code = orm.load_code('pw@localhost')"
   ]
  },
  {
   "cell_type": "code",
   "execution_count": 24,
   "metadata": {},
   "outputs": [
    {
     "name": "stderr",
     "output_type": "stream",
     "text": [
      "01/11/2024 03:09:24 PM <26503> aiida.orm.nodes.process.workflow.workchain.WorkChainNode: [REPORT] [124|EquationOfState|results]: AttributeDict({'labels': ['structure_0', 'structure_1', 'structure_2', 'structure_3', 'structure_4'], 'structure_0': <CalcJobNode: uuid: 506b871e-df9e-4058-85e7-700ed60b7035 (pk: 133) (aiida.calculations:qe.pw)>, 'structure_1': <CalcJobNode: uuid: e9f07796-a2a2-4969-a106-bd7ec27b0e34 (pk: 136) (aiida.calculations:qe.pw)>, 'structure_2': <CalcJobNode: uuid: 3bcc5323-e2d9-4e01-88d4-a0dfbf6b4a1f (pk: 139) (aiida.calculations:qe.pw)>, 'structure_3': <CalcJobNode: uuid: c1c01ed2-77e7-4cd8-abec-7405b2da9817 (pk: 142) (aiida.calculations:qe.pw)>, 'structure_4': <CalcJobNode: uuid: 81dca78a-da59-4470-bc5a-a8b4e7d05b26 (pk: 145) (aiida.calculations:qe.pw)>})\n"
     ]
    }
   ],
   "source": [
    "results, node = engine.run_get_node(builder)"
   ]
  },
  {
   "cell_type": "code",
   "execution_count": 31,
   "metadata": {},
   "outputs": [
    {
     "data": {
      "text/plain": [
       "{'structure_0': [11.863200731903, -536.35355863018],\n",
       " 'structure_1': [13.952279461612, -536.79015879553],\n",
       " 'structure_2': [16.273252032788, -536.90415317779],\n",
       " 'structure_3': [18.838323384456, -536.8214904491],\n",
       " 'structure_4': [21.65969845564, -536.62164959241]}"
      ]
     },
     "execution_count": 31,
     "metadata": {},
     "output_type": "execute_result"
    }
   ],
   "source": [
    "results['eos_dict'].get_dict()"
   ]
  },
  {
   "cell_type": "code",
   "execution_count": 25,
   "metadata": {},
   "outputs": [],
   "source": [
    "eos = node.outputs.eos_dict.get_dict()"
   ]
  },
  {
   "cell_type": "code",
   "execution_count": 26,
   "metadata": {},
   "outputs": [
    {
     "data": {
      "text/plain": [
       "{'structure_0': [11.863200733459, -536.3535586307],\n",
       " 'structure_1': [13.952279463442, -536.79015879477],\n",
       " 'structure_2': [16.273252034923, -536.90415317779],\n",
       " 'structure_3': [18.838323386928, -536.82149044905],\n",
       " 'structure_4': [21.659698458483, -536.62164959218]}"
      ]
     },
     "execution_count": 26,
     "metadata": {},
     "output_type": "execute_result"
    }
   ],
   "source": [
    "eos"
   ]
  },
  {
   "cell_type": "code",
   "execution_count": 27,
   "metadata": {},
   "outputs": [
    {
     "data": {
      "text/plain": [
       "[<matplotlib.lines.Line2D at 0x1f3664990>]"
      ]
     },
     "execution_count": 27,
     "metadata": {},
     "output_type": "execute_result"
    },
    {
     "data": {
      "image/png": "[encoded data removed]",
      "text/plain": [
       "<Figure size 640x480 with 1 Axes>"
      ]
     },
     "metadata": {},
     "output_type": "display_data"
    }
   ],
   "source": [
    "plt.plot(\n",
    "    [v[0] for v in eos.values()],\n",
    "    [v[1] for v in eos.values()],\n",
    ")"
   ]
  },
  {
   "cell_type": "markdown",
   "metadata": {},
   "source": [
    "## Restarting the work chain"
   ]
  },
  {
   "cell_type": "code",
   "execution_count": 28,
   "metadata": {},
   "outputs": [],
   "source": [
    "restart_builder = node.get_builder_restart()"
   ]
  },
  {
   "cell_type": "code",
   "execution_count": 29,
   "metadata": {},
   "outputs": [
    {
     "name": "stderr",
     "output_type": "stream",
     "text": [
      "01/11/2024 03:10:16 PM <26503> aiida.orm.nodes.process.workflow.workchain.WorkChainNode: [REPORT] [168|EquationOfState|results]: AttributeDict({'labels': ['structure_0', 'structure_1', 'structure_2', 'structure_3', 'structure_4'], 'structure_0': <CalcJobNode: uuid: 6c7d79a8-378c-4873-9667-b5d85fcc49ec (pk: 177) (aiida.calculations:qe.pw)>, 'structure_1': <CalcJobNode: uuid: b9f2c716-5e98-46a9-83a4-2d3901c195cb (pk: 180) (aiida.calculations:qe.pw)>, 'structure_2': <CalcJobNode: uuid: d3998683-844d-43e7-a066-e6134169f79e (pk: 183) (aiida.calculations:qe.pw)>, 'structure_3': <CalcJobNode: uuid: 374744c9-cfe9-434c-8031-afe98bfa14de (pk: 186) (aiida.calculations:qe.pw)>, 'structure_4': <CalcJobNode: uuid: 3ad0feb8-2fed-4de7-ae4d-e4edf6bd3b85 (pk: 189) (aiida.calculations:qe.pw)>})\n"
     ]
    },
    {
     "data": {
      "text/plain": [
       "{'eos_dict': <Dict: uuid: 9a157ada-e006-46ef-9872-2fed6c95aded (pk: 211)>}"
      ]
     },
     "execution_count": 29,
     "metadata": {},
     "output_type": "execute_result"
    }
   ],
   "source": [
    "engine.run(restart_builder)"
   ]
  },
  {
   "cell_type": "markdown",
   "metadata": {},
   "source": [
    "## Submitting to the daemon\n",
    "\n",
    "> Note: this requires that the daemon knows where to find the work chain, which means the work chain is stored in a module that is in the `PYTHONPATH`, or (preferably) it is developed in an installed package."
   ]
  },
  {
   "cell_type": "code",
   "execution_count": 36,
   "metadata": {},
   "outputs": [],
   "source": [
    "from aiida import engine\n",
    "from eos_wc import EquationOfState\n",
    "\n",
    "builder = EquationOfState.get_builder()\n",
    "\n",
    "builder.structure = relaxed_structure\n",
    "builder.scale_factors = orm.List([0.9, 0.95, 1.0, 1.05, 1.1])\n",
    "builder.code = orm.load_code('qe-7.2-pw@localhost')"
   ]
  },
  {
   "cell_type": "code",
   "execution_count": 37,
   "metadata": {},
   "outputs": [
    {
     "data": {
      "text/plain": [
       "<WorkChainNode: uuid: 372a7749-746f-4cf8-b8a4-6e0b33bf71ff (pk: 4553) (eos_wc.EquationOfState)>"
      ]
     },
     "execution_count": 37,
     "metadata": {},
     "output_type": "execute_result"
    }
   ],
   "source": [
    "engine.submit(builder)"
   ]
  },
  {
   "cell_type": "markdown",
   "metadata": {},
   "source": [
    "The `WorkChain` approach is not very suitable for interactively building a workflow. We've been working on a more flexible variant: the `WorkTree` (I know, we like workflows so much we can't get enough of them):\n",
    "\n",
    "https://aiida-worktree.readthedocs.io/en/stable/"
   ]
  },
  {
   "cell_type": "markdown",
   "metadata": {},
   "source": []
  }
 ],
 "metadata": {
  "kernelspec": {
   "display_name": "qe-installed",
   "language": "python",
   "name": "python3"
  },
  "language_info": {
   "codemirror_mode": {
    "name": "ipython",
    "version": 3
   },
   "file_extension": ".py",
   "mimetype": "text/x-python",
   "name": "python",
   "nbconvert_exporter": "python",
   "pygments_lexer": "ipython3",
   "version": "3.11.0"
  }
 },
 "nbformat": 4,
 "nbformat_minor": 2
}
